{
 "cells": [
  {
   "cell_type": "code",
   "execution_count": 1,
   "metadata": {},
   "outputs": [],
   "source": [
    "using ForwardDiff"
   ]
  },
  {
   "cell_type": "code",
   "execution_count": 2,
   "metadata": {},
   "outputs": [],
   "source": [
    "function newton(f,x0, ϵ)\n",
    "    #Precalculates first and second derivative.\n",
    "    D(f, x)  = ForwardDiff.derivative(f, x)\n",
    "    #hack to deal with unidimensional second-order derivative\n",
    "    D²(f, x) = ForwardDiff.derivative(y -> ForwardDiff.derivative(f, y), x)\n",
    "    # counter\n",
    "    n = 0\n",
    "    # Newtown step\n",
    "    while abs(D(f, x0)) > ϵ\n",
    "        x1 = x0 - D(f, x0)/D²(f, x0)\n",
    "        x0 = x1\n",
    "        n = n + 1\n",
    "        println(\"Iteration $(n): $x0\")\n",
    "    end\n",
    "    println(\"x = $(x0)\")\n",
    "end;"
   ]
  },
  {
   "cell_type": "code",
   "execution_count": 8,
   "metadata": {},
   "outputs": [
    {
     "name": "stdout",
     "output_type": "stream",
     "text": [
      "Iteration 1: -0.6666666666666667\n",
      "Iteration 2: -0.5277777777777778\n",
      "Iteration 3: -0.5009746588693957\n",
      "Iteration 4: -0.5000012641489876\n",
      "x = -0.5000012641489876\n"
     ]
    }
   ],
   "source": [
    "x0 = -1 # initial point\n",
    "f(x) = x^4-2*x^3+2*x  # function\n",
    "ϵ = 0.001 # precision\n",
    "\n",
    "newton(f,x0,ϵ)"
   ]
  },
  {
   "cell_type": "code",
   "execution_count": null,
   "metadata": {},
   "outputs": [],
   "source": []
  }
 ],
 "metadata": {
  "kernelspec": {
   "display_name": "Julia 1.6.2",
   "language": "julia",
   "name": "julia-1.6"
  },
  "language_info": {
   "file_extension": ".jl",
   "mimetype": "application/julia",
   "name": "julia",
   "version": "1.6.2"
  }
 },
 "nbformat": 4,
 "nbformat_minor": 4
}
